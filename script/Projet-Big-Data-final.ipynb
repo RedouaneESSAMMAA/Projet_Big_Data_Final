{
 "cells": [
  {
   "cell_type": "markdown",
   "metadata": {},
   "source": [
    "# Système de gestion d’emprunt dans une librairie"
   ]
  },
  {
   "cell_type": "code",
   "execution_count": 33,
   "metadata": {},
   "outputs": [],
   "source": [
    "# Importation des librairies\n",
    "import pyspark\n",
    "import findspark\n",
    "from pyspark.sql import SparkSession\n",
    "from pyspark.sql.functions import col\n",
    "from pyspark.sql import functions as F\n",
    "from pyspark.sql.functions import max"
   ]
  },
  {
   "cell_type": "code",
   "execution_count": 34,
   "metadata": {},
   "outputs": [],
   "source": [
    "# Session spark\n",
    "spark = SparkSession.builder.master('local').appName(\"Library\").getOrCreate()"
   ]
  },
  {
   "cell_type": "markdown",
   "metadata": {},
   "source": [
    "### Création des tables de données"
   ]
  },
  {
   "cell_type": "markdown",
   "metadata": {},
   "source": [
    "#### *La table Author :*\n",
    "représente une table d'auteurs. Chaque ligne contient le nom et l'identifiant d'un auteur"
   ]
  },
  {
   "cell_type": "code",
   "execution_count": 35,
   "metadata": {
    "scrolled": true
   },
   "outputs": [
    {
     "name": "stdout",
     "output_type": "stream",
     "text": [
      "+-----+-----------------+\n",
      "|  aid|             name|\n",
      "+-----+-----------------+\n",
      "|07890| Jean Paul Sartre|\n",
      "|05678|Pierre de Ronsard|\n",
      "+-----+-----------------+\n",
      "\n"
     ]
    }
   ],
   "source": [
    "# Author table\n",
    "l1 = [(\"07890\", 'Jean Paul Sartre'), (\"05678\", 'Pierre de Ronsard')]\n",
    "rdd1 = spark.sparkContext.parallelize(l1)\n",
    "Author = rdd1.toDF(['aid','name'])\n",
    "Author.createOrReplaceTempView(\"Author\")\n",
    "Author.show()"
   ]
  },
  {
   "cell_type": "markdown",
   "metadata": {},
   "source": [
    "#### *La table book :*\n",
    "représente une table de livres. Chaque ligne est un livre décrit par son identifiant, son titre et sa catégorie (roman, science-fiction, musique, etc.)."
   ]
  },
  {
   "cell_type": "code",
   "execution_count": 6,
   "metadata": {
    "scrolled": true
   },
   "outputs": [
    {
     "name": "stdout",
     "output_type": "stream",
     "text": [
      "+----+----------------------------------+-----------+\n",
      "|bid |title                             |category   |\n",
      "+----+----------------------------------+-----------+\n",
      "|0001|L'existentialisme est un humanisme|Philosophie|\n",
      "|0002|Huis clos. Suivi de Les Mouches   |Philosophie|\n",
      "|0003|Mignonne allons voir si la rose   |Poeme      |\n",
      "|0004|Les Amours                        |Poeme      |\n",
      "+----+----------------------------------+-----------+\n",
      "\n"
     ]
    }
   ],
   "source": [
    "# Book Table\n",
    "l2 = [('0001',\"L'existentialisme est un humanisme\",\"Philosophie\"),\n",
    "      ('0002',\"Huis clos. Suivi de Les Mouches\", \"Philosophie\"),\n",
    "      ('0003',\"Mignonne allons voir si la rose\", \"Poeme\"),\n",
    "      ('0004',\"Les Amours\", \"Poeme\")]\n",
    "rdd2 = spark.sparkContext.parallelize(l2) \n",
    "book = rdd2.toDF(['bid','title','category'])\n",
    "book.createOrReplaceTempView(\"book\")\n",
    "book.show(truncate=False)"
   ]
  },
  {
   "cell_type": "markdown",
   "metadata": {},
   "source": [
    "#### *La table Student :*\n",
    "représente une table d'étudiants. Chaque ligne est un étudiant décrit par son identifiant, son nom et son département (informatique, mécanique...)."
   ]
  },
  {
   "cell_type": "code",
   "execution_count": 36,
   "metadata": {
    "scrolled": true
   },
   "outputs": [
    {
     "name": "stdout",
     "output_type": "stream",
     "text": [
      "+---+-----+---------+\n",
      "|sid|sname|     dept|\n",
      "+---+-----+---------+\n",
      "|S15| toto|    Maths|\n",
      "|S16| popo|      Eco|\n",
      "|S17| fofo|Mécanique|\n",
      "+---+-----+---------+\n",
      "\n"
     ]
    }
   ],
   "source": [
    "# Student table\n",
    "l3 = [('S15',\"toto\",\"Maths\"),\n",
    "      ('S16',\"popo\", \"Eco\"),\n",
    "      ('S17',\"fofo\", \"Mécanique\")]\n",
    "rdd3 = spark.sparkContext.parallelize(l3) \n",
    "Student = rdd3.toDF(['sid','sname','dept'])\n",
    "Student.createOrReplaceTempView(\"Student\")\n",
    "Student.show()"
   ]
  },
  {
   "cell_type": "markdown",
   "metadata": {},
   "source": [
    "#### *La table write :*\n",
    "représente l'association entre les auteurs et les livres. Une ligne de cette table signifie que l'auteur a écrit le livre bid."
   ]
  },
  {
   "cell_type": "code",
   "execution_count": 37,
   "metadata": {
    "scrolled": true
   },
   "outputs": [
    {
     "name": "stdout",
     "output_type": "stream",
     "text": [
      "+-----+----+\n",
      "|  aid| bid|\n",
      "+-----+----+\n",
      "|07890|0001|\n",
      "|07890|0002|\n",
      "|05678|0003|\n",
      "|05678|0004|\n",
      "+-----+----+\n",
      "\n"
     ]
    }
   ],
   "source": [
    "# Write table\n",
    "l4 = [('07890',\"0001\"),\n",
    "      ('07890',\"0002\"),\n",
    "      ('05678',\"0003\"),\n",
    "      ('05678',\"0004\")]\n",
    "rdd4 = spark.sparkContext.parallelize(l4) \n",
    "write = rdd4.toDF(['aid','bid'])\n",
    "write.createOrReplaceTempView(\"write\")\n",
    "write.show()"
   ]
  },
  {
   "cell_type": "markdown",
   "metadata": {},
   "source": [
    "#### *La table borrow :*\n",
    "\n",
    " représente les informations de prêt de livre. \n",
    "Une ligne de cette table signifie que l'étudiant a emprunté le livre bid  , à la date checkout-time et l'a retourné à la date return-time "
   ]
  },
  {
   "cell_type": "code",
   "execution_count": 55,
   "metadata": {
    "scrolled": false
   },
   "outputs": [
    {
     "name": "stdout",
     "output_type": "stream",
     "text": [
      "+---+----+-------------+-----------+\n",
      "|sid| bid|checkout-time|return-time|\n",
      "+---+----+-------------+-----------+\n",
      "|S15|0003|   02-01-2020| 01-02-2020|\n",
      "|S15|0002|   13-06-2020|       null|\n",
      "|S15|0001|   13-06-2020| 13-10-2020|\n",
      "|S16|0002|   24-01-2020| 24-01-2020|\n",
      "|S17|0001|   12-04-2020| 01-07-2020|\n",
      "+---+----+-------------+-----------+\n",
      "\n"
     ]
    }
   ],
   "source": [
    "# Borrow table\n",
    "l5 = [('S15',\"0003\",\"02-01-2020\",\"01-02-2020\"),\n",
    "      ('S15',\"0002\",\"13-06-2020\", None),\n",
    "      ('S15',\"0001\",\"13-06-2020\",\"13-10-2020\"),\n",
    "      ('S16',\"0002\", \"24-01-2020\",\"24-01-2020\"),\n",
    "      ('S17',\"0001\", \"12-04-2020\",\"01-07-2020\")]\n",
    "rdd5 = spark.sparkContext.parallelize(l5) \n",
    "borrow = rdd5.toDF(['sid','bid','checkout-time','return-time'])\n",
    "borrow.createOrReplaceTempView(\"borrow\")\n",
    "borrow.show()"
   ]
  },
  {
   "cell_type": "markdown",
   "metadata": {},
   "source": [
    "### 1- Les titres de tous les livres que l'étudiant sid='S15' a emprunté."
   ]
  },
  {
   "cell_type": "code",
   "execution_count": 39,
   "metadata": {},
   "outputs": [
    {
     "name": "stdout",
     "output_type": "stream",
     "text": [
      "+----------------------------------+\n",
      "|title                             |\n",
      "+----------------------------------+\n",
      "|Huis clos. Suivi de Les Mouches   |\n",
      "|Mignonne allons voir si la rose   |\n",
      "|L'existentialisme est un humanisme|\n",
      "+----------------------------------+\n",
      "\n"
     ]
    }
   ],
   "source": [
    "# SQL\n",
    "spark.sql(''' select title\n",
    "              from Student as s join borrow as b on s.sid = b.sid\n",
    "                                   join book as bk on b.bid = bk.bid\n",
    "              where s.sid = \"S15\"\n",
    "              ''').show(truncate=False)"
   ]
  },
  {
   "cell_type": "code",
   "execution_count": 40,
   "metadata": {},
   "outputs": [
    {
     "name": "stdout",
     "output_type": "stream",
     "text": [
      "+----------------------------------+\n",
      "|title                             |\n",
      "+----------------------------------+\n",
      "|Huis clos. Suivi de Les Mouches   |\n",
      "|Mignonne allons voir si la rose   |\n",
      "|L'existentialisme est un humanisme|\n",
      "+----------------------------------+\n",
      "\n"
     ]
    }
   ],
   "source": [
    "# DSL\n",
    "Student.join(borrow, on=[\"sid\"])\\\n",
    "     .join(book, on=[\"bid\"])\\\n",
    "     .select(\"title\")\\\n",
    "     .filter(col(\"sid\") == \"S15\")\\\n",
    "     .show(truncate=False)"
   ]
  },
  {
   "cell_type": "markdown",
   "metadata": {},
   "source": [
    "### 2- Les titres de tous les livres qui n'ont jamais été empruntés par un étudiant."
   ]
  },
  {
   "cell_type": "code",
   "execution_count": 41,
   "metadata": {
    "scrolled": true
   },
   "outputs": [
    {
     "name": "stdout",
     "output_type": "stream",
     "text": [
      "+----+----------+\n",
      "| bid|     title|\n",
      "+----+----------+\n",
      "|0004|Les Amours|\n",
      "+----+----------+\n",
      "\n"
     ]
    }
   ],
   "source": [
    "# SQL\n",
    "spark.sql(''' select bid, title\n",
    "              from book\n",
    "              EXCEPT\n",
    "              select distinct(b.bid), title\n",
    "              from borrow as b join book as bk on b.bid = bk.bid\n",
    "             \n",
    "              ''').show()"
   ]
  },
  {
   "cell_type": "code",
   "execution_count": 43,
   "metadata": {},
   "outputs": [
    {
     "name": "stdout",
     "output_type": "stream",
     "text": [
      "+----+----------+\n",
      "| bid|     title|\n",
      "+----+----------+\n",
      "|0004|Les Amours|\n",
      "+----+----------+\n",
      "\n"
     ]
    }
   ],
   "source": [
    "# DSL :\n",
    "book.join(borrow, on=[\"bid\"], how=\"left_anti\")\\\n",
    "    .select(\"bid\",\"title\")\\\n",
    "    .show()"
   ]
  },
  {
   "cell_type": "markdown",
   "metadata": {},
   "source": [
    "### 3- Tous les étudiants qui ont emprunté le livre bid=’002’"
   ]
  },
  {
   "cell_type": "code",
   "execution_count": 44,
   "metadata": {
    "scrolled": false
   },
   "outputs": [
    {
     "name": "stdout",
     "output_type": "stream",
     "text": [
      "+-----+\n",
      "|sname|\n",
      "+-----+\n",
      "| popo|\n",
      "| toto|\n",
      "+-----+\n",
      "\n"
     ]
    }
   ],
   "source": [
    "# SQL\n",
    "spark.sql(''' select sname\n",
    "              from Student as s join borrow as b on s.sid = b.sid\n",
    "                                   join book as bk on b.bid = bk.bid\n",
    "              where b.bid = \"0002\"\n",
    "              \n",
    "              ''').show()"
   ]
  },
  {
   "cell_type": "code",
   "execution_count": 45,
   "metadata": {},
   "outputs": [
    {
     "name": "stdout",
     "output_type": "stream",
     "text": [
      "+-----+\n",
      "|sname|\n",
      "+-----+\n",
      "| popo|\n",
      "| toto|\n",
      "+-----+\n",
      "\n"
     ]
    }
   ],
   "source": [
    "# DSL\n",
    "Student.join(borrow, on=[\"sid\"])\\\n",
    "     .join(book, on=[\"bid\"])\\\n",
    "     .select(\"sname\")\\\n",
    "     .filter(borrow.bid == \"0002\")\\\n",
    "     .show()"
   ]
  },
  {
   "cell_type": "markdown",
   "metadata": {},
   "source": [
    "### 4- Les titres de tous les livres empruntés par les étudiants en Mécanique"
   ]
  },
  {
   "cell_type": "code",
   "execution_count": 46,
   "metadata": {
    "scrolled": true
   },
   "outputs": [
    {
     "name": "stdout",
     "output_type": "stream",
     "text": [
      "+----------------------------------+\n",
      "|title                             |\n",
      "+----------------------------------+\n",
      "|L'existentialisme est un humanisme|\n",
      "+----------------------------------+\n",
      "\n"
     ]
    }
   ],
   "source": [
    "# SQL\n",
    "spark.sql(''' select title\n",
    "              from Student as s join borrow as b on s.sid = b.sid\n",
    "                                   join book as bk on b.bid = bk.bid\n",
    "              where dept = \"Mécanique\"\n",
    "              ''').show(truncate=False)"
   ]
  },
  {
   "cell_type": "code",
   "execution_count": 47,
   "metadata": {},
   "outputs": [
    {
     "name": "stdout",
     "output_type": "stream",
     "text": [
      "+----------------------------------+\n",
      "|title                             |\n",
      "+----------------------------------+\n",
      "|L'existentialisme est un humanisme|\n",
      "+----------------------------------+\n",
      "\n"
     ]
    }
   ],
   "source": [
    "# DSL\n",
    "Student.join(borrow, on=[\"sid\"])\\\n",
    "     .join(book, on=[\"bid\"])\\\n",
    "     .select(\"title\")\\\n",
    "     .filter(col(\"dept\") == \"Mécanique\")\\\n",
    "     .show(truncate=False)"
   ]
  },
  {
   "cell_type": "markdown",
   "metadata": {},
   "source": [
    "### 5- Les étudiants qui n’ont jamais emprunté de livre. "
   ]
  },
  {
   "cell_type": "code",
   "execution_count": 48,
   "metadata": {
    "scrolled": true
   },
   "outputs": [
    {
     "name": "stdout",
     "output_type": "stream",
     "text": [
      "+---+-----+\n",
      "|sid|sname|\n",
      "+---+-----+\n",
      "+---+-----+\n",
      "\n"
     ]
    }
   ],
   "source": [
    "# SQL\n",
    "spark.sql(''' select sid, sname\n",
    "              from Student\n",
    "              EXCEPT\n",
    "              select distinct(s.sid), sname\n",
    "              from Student as s join borrow as b on s.sid = b.sid\n",
    "             \n",
    "              ''').show()"
   ]
  },
  {
   "cell_type": "code",
   "execution_count": 50,
   "metadata": {},
   "outputs": [
    {
     "name": "stdout",
     "output_type": "stream",
     "text": [
      "+---+-----+\n",
      "|sid|sname|\n",
      "+---+-----+\n",
      "+---+-----+\n",
      "\n"
     ]
    }
   ],
   "source": [
    "Student.join(borrow, on=[\"sid\"], how=\"left_anti\")\\\n",
    "    .select(\"sid\", \"sname\")\\\n",
    "    .show()"
   ]
  },
  {
   "cell_type": "markdown",
   "metadata": {},
   "source": [
    "**Result:** Tous les étudiants ont déjà emprunté un livre"
   ]
  },
  {
   "cell_type": "markdown",
   "metadata": {},
   "source": [
    "### 6- L’auteur qui a écrit le plus de livres."
   ]
  },
  {
   "cell_type": "code",
   "execution_count": 51,
   "metadata": {},
   "outputs": [
    {
     "name": "stdout",
     "output_type": "stream",
     "text": [
      "+-----------------+----------------+\n",
      "|             name|Nombre_de_livres|\n",
      "+-----------------+----------------+\n",
      "| Jean Paul Sartre|               2|\n",
      "|Pierre de Ronsard|               2|\n",
      "+-----------------+----------------+\n",
      "\n"
     ]
    }
   ],
   "source": [
    "# SQL\n",
    "spark.sql(''' select name, count(title) as Nombre_de_livres\n",
    "              from Author as a join write as w on a.aid = w.aid\n",
    "                                   join book as bk on w.bid = bk.bid\n",
    "              group by name\n",
    "              having Nombre_de_livres = (select max(Nombre_de_livres) from \n",
    "                                         (select name, count(title) as Nombre_de_livres\n",
    "                                          from Author as a join write as w on a.aid = w.aid\n",
    "                                                             join book as bk on w.bid = bk.bid\n",
    "                                          group by name))\n",
    "              ''').show()"
   ]
  },
  {
   "cell_type": "code",
   "execution_count": 27,
   "metadata": {},
   "outputs": [
    {
     "name": "stdout",
     "output_type": "stream",
     "text": [
      "+-----------------+----------------+\n",
      "|             name|Nombre de livres|\n",
      "+-----------------+----------------+\n",
      "| Jean Paul Sartre|               2|\n",
      "|Pierre de Ronsard|               2|\n",
      "+-----------------+----------------+\n",
      "\n"
     ]
    }
   ],
   "source": [
    "write.join(Author, [\"aid\"])\\\n",
    "     .select(\"name\")\\\n",
    "     .groupBy(\"name\")\\\n",
    "     .agg(F.count(\"name\").alias(\"Nombre de livres\"))\\\n",
    "     .show()"
   ]
  },
  {
   "cell_type": "markdown",
   "metadata": {},
   "source": [
    "**Result:** Les deux auteurs ont écrit le même nombre de livres"
   ]
  },
  {
   "cell_type": "markdown",
   "metadata": {},
   "source": [
    "### 7- Les personnes qui n’ont pas encore rendu les livres."
   ]
  },
  {
   "cell_type": "code",
   "execution_count": 52,
   "metadata": {},
   "outputs": [
    {
     "name": "stdout",
     "output_type": "stream",
     "text": [
      "+-----+\n",
      "|sname|\n",
      "+-----+\n",
      "| toto|\n",
      "+-----+\n",
      "\n"
     ]
    }
   ],
   "source": [
    "# SQL\n",
    "spark.sql(''' select sname\n",
    "              from Student as s join borrow as b on s.sid = b.sid\n",
    "              where return_time is Null                     \n",
    "              \n",
    "              ''').show()"
   ]
  },
  {
   "cell_type": "code",
   "execution_count": 53,
   "metadata": {},
   "outputs": [
    {
     "name": "stdout",
     "output_type": "stream",
     "text": [
      "+-----+\n",
      "|sname|\n",
      "+-----+\n",
      "| toto|\n",
      "+-----+\n",
      "\n"
     ]
    }
   ],
   "source": [
    "# DSL\n",
    "Student.join(borrow, on=[\"sid\"])\\\n",
    "     .select(\"sname\")\\\n",
    "     .filter(col(\"return_time\").isNull())\\\n",
    "     .show()"
   ]
  },
  {
   "cell_type": "markdown",
   "metadata": {},
   "source": [
    "### 8- Créer une nouvelle colonne dans la table borrow qui prend la valeur 1, si la durée d'emprunt est supérieur à 3 mois,  sinon 0.\n"
   ]
  },
  {
   "cell_type": "code",
   "execution_count": 59,
   "metadata": {},
   "outputs": [
    {
     "name": "stdout",
     "output_type": "stream",
     "text": [
      "+---+----+-------------+-----------+---------------+\n",
      "|sid| bid|checkout-time|return-time|Beyond 3 months|\n",
      "+---+----+-------------+-----------+---------------+\n",
      "|S15|0003|   2020-01-02| 2020-02-01|              0|\n",
      "|S15|0002|   2020-06-13|       null|              0|\n",
      "|S15|0001|   2020-06-13| 2020-10-13|              1|\n",
      "|S16|0002|   2020-01-24| 2020-01-24|              0|\n",
      "|S17|0001|   2020-04-12| 2020-07-01|              0|\n",
      "+---+----+-------------+-----------+---------------+\n",
      "\n"
     ]
    }
   ],
   "source": [
    "#DSL\n",
    "borrow_csv =borrow.withColumn(\"checkout-time\", F.to_date(col(\"checkout-time\"), \"dd-MM-yyyy\"))\\\n",
    "                  .withColumn(\"return-time\", F.to_date(col(\"return-time\"), \"dd-MM-yyyy\"))\\\n",
    "                  .withColumn(\"Beyond 3 months\", F.when(F.datediff(col(\"return-time\"), col(\"checkout-time\")) > 90, 1).otherwise(0))\n",
    "borrow_csv.show()"
   ]
  },
  {
   "cell_type": "code",
   "execution_count": 61,
   "metadata": {},
   "outputs": [],
   "source": [
    "# Exportation de la base borrow_csv en format csv :\n",
    "borrow_csv.toPandas().to_csv(\"output/borrow.csv\", header=True)"
   ]
  },
  {
   "cell_type": "markdown",
   "metadata": {},
   "source": [
    "### 9- Les livres qui n’ont jamais été empruntés. "
   ]
  },
  {
   "cell_type": "code",
   "execution_count": 54,
   "metadata": {},
   "outputs": [
    {
     "name": "stdout",
     "output_type": "stream",
     "text": [
      "+----+----------+\n",
      "| bid|     title|\n",
      "+----+----------+\n",
      "|0004|Les Amours|\n",
      "+----+----------+\n",
      "\n"
     ]
    }
   ],
   "source": [
    "# SQL\n",
    "spark.sql(''' select bid, title\n",
    "              from bookSQL\n",
    "              EXCEPT\n",
    "              select distinct(b.bid), title\n",
    "              from borrowSQL as b join bookSQL as bk on b.bid = bk.bid\n",
    "             \n",
    "              ''').show()"
   ]
  },
  {
   "cell_type": "code",
   "execution_count": 105,
   "metadata": {},
   "outputs": [
    {
     "name": "stdout",
     "output_type": "stream",
     "text": [
      "+----+----------+\n",
      "| bid|     title|\n",
      "+----+----------+\n",
      "|0004|Les Amours|\n",
      "+----+----------+\n",
      "\n"
     ]
    }
   ],
   "source": [
    "# DSL\n",
    "dh1 = book.select(\"bid\", \"title\")\n",
    "dh2 = borrow.join(book, borrow.bid == book.bid)\\\n",
    "            .select(book.bid, book.title).dropDuplicates()\n",
    "dh1.subtract(dh2).show()"
   ]
  },
  {
   "cell_type": "code",
   "execution_count": 48,
   "metadata": {},
   "outputs": [],
   "source": [
    "#Fermeture de la session saprk :\n",
    "spark.stop()"
   ]
  }
 ],
 "metadata": {
  "kernelspec": {
   "display_name": "Python 3",
   "language": "python",
   "name": "python3"
  },
  "language_info": {
   "codemirror_mode": {
    "name": "ipython",
    "version": 3
   },
   "file_extension": ".py",
   "mimetype": "text/x-python",
   "name": "python",
   "nbconvert_exporter": "python",
   "pygments_lexer": "ipython3",
   "version": "3.7.6"
  }
 },
 "nbformat": 4,
 "nbformat_minor": 4
}
